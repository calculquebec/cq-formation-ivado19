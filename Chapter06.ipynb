{
 "cells": [
  {
   "cell_type": "code",
   "execution_count": 1,
   "metadata": {},
   "outputs": [],
   "source": [
    "import pandas as pd"
   ]
  },
  {
   "cell_type": "code",
   "execution_count": 2,
   "metadata": {},
   "outputs": [],
   "source": [
    "surveys = pd.read_csv('data/surveys.csv')\n",
    "species = pd.read_csv('data/species.csv')"
   ]
  },
  {
   "cell_type": "code",
   "execution_count": 3,
   "metadata": {},
   "outputs": [],
   "source": [
    "import os"
   ]
  },
  {
   "cell_type": "code",
   "execution_count": 4,
   "metadata": {},
   "outputs": [],
   "source": [
    "os.mkdir('yearly')"
   ]
  },
  {
   "cell_type": "code",
   "execution_count": 65,
   "metadata": {},
   "outputs": [],
   "source": [
    "def one_year(all_data, folder, prefix, year):\n",
    "    \"\"\"\n",
    "    Function one_year does ....\n",
    "    year: alskdjflka\n",
    "    all_data: laksdjlfkja\n",
    "    Returned value: none so far\n",
    "    \"\"\"\n",
    "    by_year = all_data[all_data['year'] == year].dropna()\n",
    "    filename = os.path.join(folder, prefix + str(year) + '.csv')\n",
    "    \n",
    "    if not os.path.exists(filename):\n",
    "        by_year.to_csv(filename)\n",
    "    else:\n",
    "        print('Skipping: ' + filename)"
   ]
  },
  {
   "cell_type": "code",
   "execution_count": 34,
   "metadata": {},
   "outputs": [],
   "source": [
    "one_year?"
   ]
  },
  {
   "cell_type": "code",
   "execution_count": 66,
   "metadata": {
    "scrolled": true
   },
   "outputs": [],
   "source": [
    "def all_yearly(all_data, folder, prefix, start_year=1977, end_year=2002):\n",
    "    if folder in os.listdir('.'):\n",
    "        print('The folder exists')\n",
    "    else:\n",
    "        os.mkdir(folder)\n",
    "        print('New folder created')\n",
    "\n",
    "    for year in range(start_year, end_year+1):\n",
    "        one_year(all_data, folder, prefix, year)"
   ]
  },
  {
   "cell_type": "code",
   "execution_count": 67,
   "metadata": {},
   "outputs": [
    {
     "name": "stdout",
     "output_type": "stream",
     "text": [
      "The folder exists\n",
      "Skipping: results/ivado1985.csv\n",
      "Skipping: results/ivado1986.csv\n",
      "Skipping: results/ivado1987.csv\n",
      "Skipping: results/ivado1988.csv\n",
      "Skipping: results/ivado1989.csv\n",
      "Skipping: results/ivado1990.csv\n",
      "Skipping: results/ivado1991.csv\n",
      "Skipping: results/ivado1992.csv\n",
      "Skipping: results/ivado1993.csv\n",
      "Skipping: results/ivado1994.csv\n",
      "Skipping: results/ivado1995.csv\n",
      "Skipping: results/ivado1996.csv\n",
      "Skipping: results/ivado1997.csv\n",
      "Skipping: results/ivado1998.csv\n",
      "Skipping: results/ivado1999.csv\n",
      "Skipping: results/ivado2000.csv\n",
      "Skipping: results/ivado2001.csv\n",
      "Skipping: results/ivado2002.csv\n",
      "Skipping: results/ivado2003.csv\n",
      "Skipping: results/ivado2004.csv\n",
      "Skipping: results/ivado2005.csv\n"
     ]
    },
    {
     "data": {
      "text/plain": [
       "['ivado1985.csv',\n",
       " 'ivado1986.csv',\n",
       " 'ivado1987.csv',\n",
       " 'ivado1988.csv',\n",
       " 'ivado1989.csv',\n",
       " 'ivado1990.csv',\n",
       " 'ivado1991.csv',\n",
       " 'ivado1992.csv',\n",
       " 'ivado1993.csv',\n",
       " 'ivado1994.csv',\n",
       " 'ivado1995.csv',\n",
       " 'ivado1996.csv',\n",
       " 'ivado1997.csv',\n",
       " 'ivado1998.csv',\n",
       " 'ivado1999.csv',\n",
       " 'ivado2000.csv',\n",
       " 'ivado2001.csv',\n",
       " 'ivado2002.csv',\n",
       " 'ivado2003.csv',\n",
       " 'ivado2004.csv',\n",
       " 'ivado2005.csv']"
      ]
     },
     "execution_count": 67,
     "metadata": {},
     "output_type": "execute_result"
    }
   ],
   "source": [
    "all_yearly(surveys, 'results', 'ivado', end_year=2005, start_year=1985)\n",
    "os.listdir('results')"
   ]
  },
  {
   "cell_type": "code",
   "execution_count": 26,
   "metadata": {},
   "outputs": [],
   "source": [
    "a = [5, 6, 7, 8]\n",
    "def fnName(arg1, arg2):\n",
    "    a = ('hello')\n",
    "    return arg1 * arg2"
   ]
  },
  {
   "cell_type": "code",
   "execution_count": 27,
   "metadata": {},
   "outputs": [
    {
     "name": "stdout",
     "output_type": "stream",
     "text": [
      "[5, 6, 7, 8]\n"
     ]
    }
   ],
   "source": [
    "fnName(3, 5)\n",
    "print(a)"
   ]
  },
  {
   "cell_type": "code",
   "execution_count": 14,
   "metadata": {},
   "outputs": [
    {
     "ename": "TypeError",
     "evalue": "fnName() takes 2 positional arguments but 3 were given",
     "output_type": "error",
     "traceback": [
      "\u001b[0;31m---------------------------------------------------------------------------\u001b[0m",
      "\u001b[0;31mTypeError\u001b[0m                                 Traceback (most recent call last)",
      "\u001b[0;32m<ipython-input-14-6f996838761f>\u001b[0m in \u001b[0;36m<module>\u001b[0;34m\u001b[0m\n\u001b[0;32m----> 1\u001b[0;31m \u001b[0mfnName\u001b[0m\u001b[0;34m(\u001b[0m\u001b[0;36m4\u001b[0m\u001b[0;34m,\u001b[0m \u001b[0;36m5\u001b[0m\u001b[0;34m,\u001b[0m \u001b[0;36m6\u001b[0m\u001b[0;34m)\u001b[0m\u001b[0;34m\u001b[0m\u001b[0m\n\u001b[0m",
      "\u001b[0;31mTypeError\u001b[0m: fnName() takes 2 positional arguments but 3 were given"
     ]
    }
   ],
   "source": [
    "fnName(4, 5, 6)"
   ]
  },
  {
   "cell_type": "code",
   "execution_count": null,
   "metadata": {},
   "outputs": [],
   "source": []
  }
 ],
 "metadata": {
  "kernelspec": {
   "display_name": "Python 3",
   "language": "python",
   "name": "python3"
  },
  "language_info": {
   "codemirror_mode": {
    "name": "ipython",
    "version": 3
   },
   "file_extension": ".py",
   "mimetype": "text/x-python",
   "name": "python",
   "nbconvert_exporter": "python",
   "pygments_lexer": "ipython3",
   "version": "3.7.0"
  }
 },
 "nbformat": 4,
 "nbformat_minor": 2
}
